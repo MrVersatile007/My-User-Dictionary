{
 "cells": [
  {
   "cell_type": "code",
   "execution_count": 2,
   "id": "0a2041ca",
   "metadata": {},
   "outputs": [],
   "source": [
    "import json #imports json standard library bcs we r gonna use json file\n",
    "from difflib import SequenceMatcher  #for repetative letters in a word we need to give close matched word meaning\n",
    "from difflib import get_close_matches \n"
   ]
  },
  {
   "cell_type": "code",
   "execution_count": 3,
   "id": "6e50bb9e",
   "metadata": {},
   "outputs": [
    {
     "name": "stdout",
     "output_type": "stream",
     "text": [
      "Help on function load in module json:\n",
      "\n",
      "load(fp, *, cls=None, object_hook=None, parse_float=None, parse_int=None, parse_constant=None, object_pairs_hook=None, **kw)\n",
      "    Deserialize ``fp`` (a ``.read()``-supporting file-like object containing\n",
      "    a JSON document) to a Python object.\n",
      "    \n",
      "    ``object_hook`` is an optional function that will be called with the\n",
      "    result of any object literal decode (a ``dict``). The return value of\n",
      "    ``object_hook`` will be used instead of the ``dict``. This feature\n",
      "    can be used to implement custom decoders (e.g. JSON-RPC class hinting).\n",
      "    \n",
      "    ``object_pairs_hook`` is an optional function that will be called with the\n",
      "    result of any object literal decoded with an ordered list of pairs.  The\n",
      "    return value of ``object_pairs_hook`` will be used instead of the ``dict``.\n",
      "    This feature can be used to implement custom decoders.  If ``object_hook``\n",
      "    is also defined, the ``object_pairs_hook`` takes priority.\n",
      "    \n",
      "    To use a custom ``JSONDecoder`` subclass, specify it with the ``cls``\n",
      "    kwarg; otherwise ``JSONDecoder`` is used.\n",
      "\n"
     ]
    }
   ],
   "source": [
    "help(json.load) #load method takes file object"
   ]
  },
  {
   "cell_type": "code",
   "execution_count": 4,
   "id": "14169717",
   "metadata": {},
   "outputs": [],
   "source": [
    "data = json.load(open(\"data.json\")) #we directed the load method to file object \n",
    "#and we do that by open method"
   ]
  },
  {
   "cell_type": "code",
   "execution_count": 5,
   "id": "30a7a936",
   "metadata": {},
   "outputs": [],
   "source": [
    "#data is a class of dict\n",
    "def my_dictionary(word):\n",
    "    if word.lower() in data:\n",
    "        return data[word.lower()]\n",
    "    \n",
    "    else:\n",
    "        return \"The word doesn't exist buddy\""
   ]
  },
  {
   "cell_type": "code",
   "execution_count": 6,
   "id": "ecd7a03d",
   "metadata": {
    "scrolled": true
   },
   "outputs": [
    {
     "name": "stdout",
     "output_type": "stream",
     "text": [
      "enter your word :TARUN\n"
     ]
    }
   ],
   "source": [
    "input_word = input('enter your word :')\n"
   ]
  },
  {
   "cell_type": "code",
   "execution_count": 7,
   "id": "aae85417",
   "metadata": {},
   "outputs": [
    {
     "name": "stdout",
     "output_type": "stream",
     "text": [
      "The word doesn't exist buddy\n"
     ]
    }
   ],
   "source": [
    "print(my_dictionary(input_word)) #check check... eg: rain, RaiN, rainn"
   ]
  },
  {
   "cell_type": "code",
   "execution_count": 8,
   "id": "9f54e9c7",
   "metadata": {},
   "outputs": [
    {
     "data": {
      "text/plain": [
       "0.8888888888888888"
      ]
     },
     "execution_count": 8,
     "metadata": {},
     "output_type": "execute_result"
    }
   ],
   "source": [
    "SequenceMatcher(None, \"rain\", \"rainn\").ratio() #None here is for junk in, if there is any breaks in text like (, ' ' [ { . \\ ) \n",
    "                                    #we use a function returning them to neglect those characters"
   ]
  },
  {
   "cell_type": "code",
   "execution_count": 9,
   "id": "c36e96c2",
   "metadata": {},
   "outputs": [
    {
     "data": {
      "text/plain": [
       "['rainn']"
      ]
     },
     "execution_count": 9,
     "metadata": {},
     "output_type": "execute_result"
    }
   ],
   "source": [
    "#how to get the most similar name from a sequesnce this is how we do it...\n",
    "get_close_matches(\"rain\", [\"help\", \"pyramid\", \"name\", \"rainn\"], cutoff = 0.7) #usually cutoff is 0.6 by default"
   ]
  },
  {
   "cell_type": "code",
   "execution_count": 32,
   "id": "679ed6c8",
   "metadata": {},
   "outputs": [
    {
     "data": {
      "text/plain": [
       "['rain', 'train', 'rainy']"
      ]
     },
     "execution_count": 32,
     "metadata": {},
     "output_type": "execute_result"
    }
   ],
   "source": [
    "get_close_matches(\"rain\", data.keys(), n=3) #n is the number of possibile close match for the string and remember it returns a list"
   ]
  },
  {
   "cell_type": "code",
   "execution_count": 33,
   "id": "c2287a25",
   "metadata": {},
   "outputs": [
    {
     "data": {
      "text/plain": [
       "'rain'"
      ]
     },
     "execution_count": 33,
     "metadata": {},
     "output_type": "execute_result"
    }
   ],
   "source": [
    "#to get the only closest match n can be assigned to 1 but we need string alone not list\n",
    "\n",
    "get_close_matches(\"rain\", data.keys())[0]"
   ]
  },
  {
   "cell_type": "code",
   "execution_count": 188,
   "id": "3a28a0f8",
   "metadata": {
    "scrolled": true
   },
   "outputs": [
    {
     "name": "stdout",
     "output_type": "stream",
     "text": [
      "enter your word :TRipuRA\n",
      "Did you mean Rāipur instead? press 'Y' if yes or 'N' if no : Y\n",
      "The dialects of the Varhadi-Nagpuri language.\n"
     ]
    }
   ],
   "source": [
    "#THE FINAL CODE IS HERE !\n",
    "import json \n",
    "from difflib import SequenceMatcher  \n",
    "from difflib import get_close_matches \n",
    "data = json.load(open(\"data.json\"))\n",
    "def my_dictionary(word):\n",
    "    if word.lower() in data:\n",
    "        return data[word.lower()]\n",
    "    elif len(get_close_matches(word, data.keys())) > 0:\n",
    "        y_n= input(\"Did you mean %s instead? press 'Y' if yes or 'N' if no : \" % get_close_matches(word, data.keys())[0])\n",
    "        if y_n == \"Y\":\n",
    "            return(data[get_close_matches(word, data.keys())[0]])\n",
    "        \n",
    "        elif y_n == \"N\":\n",
    "            return(\"The word doesn't exist buddy\")\n",
    "        else:\n",
    "            return(\"you've entered invalid key, enter either 'Y' or 'N'\")\n",
    "    else:\n",
    "        return \"The word doesn't exist buddy\"\n",
    "input_word = input('enter your word :')\n",
    "output = my_dictionary(input_word)\n",
    "if type(output) == list:\n",
    "    for i in range(len(output)):\n",
    "        print (output[i])\n",
    "        if i < len(output)-1:\n",
    "            print ('or')\n",
    "else:\n",
    "    print(output)"
   ]
  }
 ],
 "metadata": {
  "kernelspec": {
   "display_name": "Python 3",
   "language": "python",
   "name": "python3"
  },
  "language_info": {
   "codemirror_mode": {
    "name": "ipython",
    "version": 3
   },
   "file_extension": ".py",
   "mimetype": "text/x-python",
   "name": "python",
   "nbconvert_exporter": "python",
   "pygments_lexer": "ipython3",
   "version": "3.8.8"
  }
 },
 "nbformat": 4,
 "nbformat_minor": 5
}
